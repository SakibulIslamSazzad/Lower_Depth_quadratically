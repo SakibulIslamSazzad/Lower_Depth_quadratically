{
 "cells": [
  {
   "cell_type": "markdown",
   "id": "751a269c",
   "metadata": {},
   "source": [
    "# How to lower the depth of a quantum circuit quadratically?\n",
    "\n",
    "Sakibul Islam Sazzad\n",
    "\n",
    "Incoming PhD Student (Fall'22), University of New Mexico\n",
    "\n",
    "Bangladesh Reference Institute for Chemical Measurements\n",
    "\n",
    "\n",
    "*Disclaimer: This writing is focused only for a GHZ like quantum states of 8 qubits- $\\frac{1}{\\sqrt{2}}(|00000000\\rangle+|11111111\\rangle)$*\n",
    "\n",
    "Firstly, we will talk about GHZ circuit. Its a extension of bell pair entanglement circuit for 3 qubits. To create a bell pair that shows entanglement we need a **H-gate** and **CNOT-gate** with control on the first qubit and target on the second qubit. The quantum ciruit of the bell pair states will look like this."
   ]
  },
  {
   "cell_type": "code",
   "execution_count": 9,
   "id": "5995f8fe",
   "metadata": {},
   "outputs": [],
   "source": [
    "import numpy as np\n",
    "\n",
    "\n",
    "# Importing standard Qiskit libraries\n",
    "from qiskit import QuantumCircuit, transpile, Aer, IBMQ\n",
    "from qiskit import QuantumRegister, ClassicalRegister, execute\n",
    "from qiskit.tools.jupyter import *\n",
    "from qiskit.visualization import *\n",
    "\n",
    "\n",
    "from qiskit.providers.aer import AerSimulator\n"
   ]
  },
  {
   "cell_type": "markdown",
   "id": "3a76ec43",
   "metadata": {},
   "source": [
    "In the previous cell we imported some necessary libraries, although for this writing QuantumCircuit, Aer, IBMQ, QuantumRegister, ClassicalRegister and execute should be enough. Now we will make a quantum ciruit of 2 qubits. To do this we will need QuantumCiruit package to defin a quanutm circuit, and we may use QuantumRegsiter and ClassicalRegister of 2 qubits to create a quantum circuit using quantum gates and after that to measure the qubit states we will need classical register of 2 bits. To measure the qubits states we have to execute the quantum ciruit on Aer simulator. \n",
    "\n"
   ]
  },
  {
   "cell_type": "code",
   "execution_count": 2,
   "id": "09e9631e",
   "metadata": {},
   "outputs": [
    {
     "data": {
      "text/html": [
       "<pre style=\"word-wrap: normal;white-space: pre;background: #fff0;line-height: 1.1;font-family: &quot;Courier New&quot;,Courier,monospace\">        ┌───┐      ░ ┌─┐   \n",
       "   q_0: ┤ H ├──■───░─┤M├───\n",
       "        └───┘┌─┴─┐ ░ └╥┘┌─┐\n",
       "   q_1: ─────┤ X ├─░──╫─┤M├\n",
       "             └───┘ ░  ║ └╥┘\n",
       "   c: 2/══════════════╬══╬═\n",
       "                      ║  ║ \n",
       "meas: 2/══════════════╩══╩═\n",
       "                      0  1 </pre>"
      ],
      "text/plain": [
       "        ┌───┐      ░ ┌─┐   \n",
       "   q_0: ┤ H ├──■───░─┤M├───\n",
       "        └───┘┌─┴─┐ ░ └╥┘┌─┐\n",
       "   q_1: ─────┤ X ├─░──╫─┤M├\n",
       "             └───┘ ░  ║ └╥┘\n",
       "   c: 2/══════════════╬══╬═\n",
       "                      ║  ║ \n",
       "meas: 2/══════════════╩══╩═\n",
       "                      0  1 "
      ]
     },
     "execution_count": 2,
     "metadata": {},
     "output_type": "execute_result"
    }
   ],
   "source": [
    "qc = QuantumCircuit(2,2) # here first 2 is quantum regsiter for 2 qubits, while second 2 is for classical register so that we can measure\n",
    "\n",
    "qc.h(0)\n",
    "qc.cx(0,1)\n",
    "qc.measure_all()\n",
    "\n",
    "qc.draw()"
   ]
  },
  {
   "cell_type": "markdown",
   "id": "90d13503",
   "metadata": {},
   "source": [
    "Now we will measure the quantum states of the 2 qubits to check that the above circuit shows us only two states 00 and 11. The circuit should show only two states cause bell pair states look like this- $\\frac{1}{\\sqrt{2}}(|00\\rangle+11\\rangle)$"
   ]
  },
  {
   "cell_type": "code",
   "execution_count": 10,
   "id": "5307fb3a",
   "metadata": {},
   "outputs": [
    {
     "name": "stdout",
     "output_type": "stream",
     "text": [
      "{'11 00': 506, '00 00': 518}\n"
     ]
    }
   ],
   "source": [
    "simulator = AerSimulator()\n",
    "result= simulator.run(qc).result()\n",
    "counts = result.get_counts()\n",
    "print(counts)\n"
   ]
  },
  {
   "cell_type": "markdown",
   "id": "b1cb9064",
   "metadata": {},
   "source": [
    "In the counts we can see that '11' has been measured in the quantum circuit by 506 times out of 1024 times and '00' has been measured in the circuit is 518 times. "
   ]
  },
  {
   "cell_type": "markdown",
   "id": "85cf98cf",
   "metadata": {},
   "source": [
    "Now we will make a quantum circuit of GHZ state which states look like $\\frac{1}{\\sqrt{2}}(|000\\rangle+|111\\rangle)$ GHZ circuit can be made two ways, we will introduce both of them so that we can extend the ideas of binary tree for a larger  number of qubits. First ways of creating a GHZ state will be one by one ladder of CNOT gates, that means- GHZ circuit can be created by inserting cx gate one qubit after one qubit. I will look like the following code snippet"
   ]
  },
  {
   "cell_type": "code",
   "execution_count": 14,
   "id": "36911762",
   "metadata": {},
   "outputs": [
    {
     "data": {
      "text/html": [
       "<pre style=\"word-wrap: normal;white-space: pre;background: #fff0;line-height: 1.1;font-family: &quot;Courier New&quot;,Courier,monospace\">        ┌───┐           ░ ┌─┐      \n",
       "   q_0: ┤ H ├──■────────░─┤M├──────\n",
       "        └───┘┌─┴─┐      ░ └╥┘┌─┐   \n",
       "   q_1: ─────┤ X ├──■───░──╫─┤M├───\n",
       "             └───┘┌─┴─┐ ░  ║ └╥┘┌─┐\n",
       "   q_2: ──────────┤ X ├─░──╫──╫─┤M├\n",
       "                  └───┘ ░  ║  ║ └╥┘\n",
       "   c: 3/═══════════════════╬══╬══╬═\n",
       "                           ║  ║  ║ \n",
       "meas: 3/═══════════════════╩══╩══╩═\n",
       "                           0  1  2 </pre>"
      ],
      "text/plain": [
       "        ┌───┐           ░ ┌─┐      \n",
       "   q_0: ┤ H ├──■────────░─┤M├──────\n",
       "        └───┘┌─┴─┐      ░ └╥┘┌─┐   \n",
       "   q_1: ─────┤ X ├──■───░──╫─┤M├───\n",
       "             └───┘┌─┴─┐ ░  ║ └╥┘┌─┐\n",
       "   q_2: ──────────┤ X ├─░──╫──╫─┤M├\n",
       "                  └───┘ ░  ║  ║ └╥┘\n",
       "   c: 3/═══════════════════╬══╬══╬═\n",
       "                           ║  ║  ║ \n",
       "meas: 3/═══════════════════╩══╩══╩═\n",
       "                           0  1  2 "
      ]
     },
     "execution_count": 14,
     "metadata": {},
     "output_type": "execute_result"
    }
   ],
   "source": [
    "qc=QuantumCircuit(3,3)\n",
    "qc.h(0)\n",
    "qc.cx(0,1)\n",
    "qc.cx(1,2)\n",
    "qc.measure_all()\n",
    "qc.draw()"
   ]
  },
  {
   "cell_type": "code",
   "execution_count": 15,
   "id": "eca5cf1b",
   "metadata": {},
   "outputs": [
    {
     "name": "stdout",
     "output_type": "stream",
     "text": [
      "{'000 000': 532, '111 000': 492}\n"
     ]
    }
   ],
   "source": [
    "simulator = AerSimulator()\n",
    "result= simulator.run(qc).result()\n",
    "counts = result.get_counts()\n",
    "print(counts)\n"
   ]
  },
  {
   "cell_type": "markdown",
   "id": "01da8d81",
   "metadata": {},
   "source": [
    "Here we can see that 000 and 111 states are created.\n",
    "\n",
    "Now the another alternative way of making GHZ circuit will always make the control of the **CNOT** gate from the 0th qubit. Here it is and it will provide us same results as the first one"
   ]
  },
  {
   "cell_type": "code",
   "execution_count": 17,
   "id": "5ff631c2",
   "metadata": {},
   "outputs": [
    {
     "data": {
      "text/html": [
       "<pre style=\"word-wrap: normal;white-space: pre;background: #fff0;line-height: 1.1;font-family: &quot;Courier New&quot;,Courier,monospace\">        ┌───┐           ░ ┌─┐      \n",
       "   q_0: ┤ H ├──■────■───░─┤M├──────\n",
       "        └───┘┌─┴─┐  │   ░ └╥┘┌─┐   \n",
       "   q_1: ─────┤ X ├──┼───░──╫─┤M├───\n",
       "             └───┘┌─┴─┐ ░  ║ └╥┘┌─┐\n",
       "   q_2: ──────────┤ X ├─░──╫──╫─┤M├\n",
       "                  └───┘ ░  ║  ║ └╥┘\n",
       "   c: 3/═══════════════════╬══╬══╬═\n",
       "                           ║  ║  ║ \n",
       "meas: 3/═══════════════════╩══╩══╩═\n",
       "                           0  1  2 </pre>"
      ],
      "text/plain": [
       "        ┌───┐           ░ ┌─┐      \n",
       "   q_0: ┤ H ├──■────■───░─┤M├──────\n",
       "        └───┘┌─┴─┐  │   ░ └╥┘┌─┐   \n",
       "   q_1: ─────┤ X ├──┼───░──╫─┤M├───\n",
       "             └───┘┌─┴─┐ ░  ║ └╥┘┌─┐\n",
       "   q_2: ──────────┤ X ├─░──╫──╫─┤M├\n",
       "                  └───┘ ░  ║  ║ └╥┘\n",
       "   c: 3/═══════════════════╬══╬══╬═\n",
       "                           ║  ║  ║ \n",
       "meas: 3/═══════════════════╩══╩══╩═\n",
       "                           0  1  2 "
      ]
     },
     "execution_count": 17,
     "metadata": {},
     "output_type": "execute_result"
    }
   ],
   "source": [
    "qc2= QuantumCircuit(3,3)\n",
    "qc2.h(0)\n",
    "qc2.cx(0,1)\n",
    "qc2.cx(0,2)\n",
    "qc2.measure_all()\n",
    "qc2.draw()"
   ]
  },
  {
   "cell_type": "code",
   "execution_count": 18,
   "id": "11500fb0",
   "metadata": {},
   "outputs": [
    {
     "name": "stdout",
     "output_type": "stream",
     "text": [
      "{'111 000': 499, '000 000': 525}\n"
     ]
    }
   ],
   "source": [
    "simulator = AerSimulator()\n",
    "result= simulator.run(qc2).result()\n",
    "counts = result.get_counts()\n",
    "print(counts)\n"
   ]
  },
  {
   "cell_type": "markdown",
   "id": "a41fbee8",
   "metadata": {},
   "source": [
    "See we have got the same results"
   ]
  },
  {
   "cell_type": "markdown",
   "id": "6306abdc",
   "metadata": {},
   "source": [
    "Now we will extend this idea for 8 qubit GHZ like states. At first lets get introduce to the depth of a quantum circuit. What will be the depth of the quanutm circuit as the previous cell. Lets considet the *qc2* circuit. what is the depth of that circuit. Qiskit has a very useful tool for this *depth()* for finding a number of depth in a circuit. Before using the *depth()* lets remove the mesaure of the circuit"
   ]
  },
  {
   "cell_type": "code",
   "execution_count": 21,
   "id": "a2bd349e",
   "metadata": {},
   "outputs": [
    {
     "name": "stdout",
     "output_type": "stream",
     "text": [
      "3\n"
     ]
    }
   ],
   "source": [
    "qc2= QuantumCircuit(3,3)\n",
    "qc2.h(0)\n",
    "qc2.cx(0,1)\n",
    "qc2.cx(0,2)\n",
    "\n",
    "depth = qc2.depth()\n",
    "print(depth)"
   ]
  },
  {
   "cell_type": "markdown",
   "id": "55ce00e9",
   "metadata": {},
   "source": [
    "We can see that the depth of the circuit is 3. Basically first layer of the depth is *H-gate*, second layer comes from a *CNOT-gate* and the final and third layer comes from the last *CNOT* gate.\n",
    "\n",
    "Now, what will be depth if we want to create a GHZ-like state for a 8 qubit as we created GHz state of 3 qubits. Yeah, you guessed correctly it should be 8, our target is to reduce the number, can we do that? lets check!!!"
   ]
  },
  {
   "cell_type": "code",
   "execution_count": 25,
   "id": "73654acf",
   "metadata": {},
   "outputs": [
    {
     "data": {
      "text/html": [
       "<pre style=\"word-wrap: normal;white-space: pre;background: #fff0;line-height: 1.1;font-family: &quot;Courier New&quot;,Courier,monospace\">     ┌───┐                                   \n",
       "q_0: ┤ H ├──■────■────■────■────■────■────■──\n",
       "     └───┘┌─┴─┐  │    │    │    │    │    │  \n",
       "q_1: ─────┤ X ├──┼────┼────┼────┼────┼────┼──\n",
       "          └───┘┌─┴─┐  │    │    │    │    │  \n",
       "q_2: ──────────┤ X ├──┼────┼────┼────┼────┼──\n",
       "               └───┘┌─┴─┐  │    │    │    │  \n",
       "q_3: ───────────────┤ X ├──┼────┼────┼────┼──\n",
       "                    └───┘┌─┴─┐  │    │    │  \n",
       "q_4: ────────────────────┤ X ├──┼────┼────┼──\n",
       "                         └───┘┌─┴─┐  │    │  \n",
       "q_5: ─────────────────────────┤ X ├──┼────┼──\n",
       "                              └───┘┌─┴─┐  │  \n",
       "q_6: ──────────────────────────────┤ X ├──┼──\n",
       "                                   └───┘┌─┴─┐\n",
       "q_7: ───────────────────────────────────┤ X ├\n",
       "                                        └───┘\n",
       "c: 8/════════════════════════════════════════\n",
       "                                             </pre>"
      ],
      "text/plain": [
       "     ┌───┐                                   \n",
       "q_0: ┤ H ├──■────■────■────■────■────■────■──\n",
       "     └───┘┌─┴─┐  │    │    │    │    │    │  \n",
       "q_1: ─────┤ X ├──┼────┼────┼────┼────┼────┼──\n",
       "          └───┘┌─┴─┐  │    │    │    │    │  \n",
       "q_2: ──────────┤ X ├──┼────┼────┼────┼────┼──\n",
       "               └───┘┌─┴─┐  │    │    │    │  \n",
       "q_3: ───────────────┤ X ├──┼────┼────┼────┼──\n",
       "                    └───┘┌─┴─┐  │    │    │  \n",
       "q_4: ────────────────────┤ X ├──┼────┼────┼──\n",
       "                         └───┘┌─┴─┐  │    │  \n",
       "q_5: ─────────────────────────┤ X ├──┼────┼──\n",
       "                              └───┘┌─┴─┐  │  \n",
       "q_6: ──────────────────────────────┤ X ├──┼──\n",
       "                                   └───┘┌─┴─┐\n",
       "q_7: ───────────────────────────────────┤ X ├\n",
       "                                        └───┘\n",
       "c: 8/════════════════════════════════════════\n",
       "                                             "
      ]
     },
     "execution_count": 25,
     "metadata": {},
     "output_type": "execute_result"
    }
   ],
   "source": [
    "ghz_like = QuantumCircuit(8,8)\n",
    "\n",
    "qubits = 8\n",
    "ghz_like.h(0)\n",
    "for i in range(8):\n",
    "    if i == 7:\n",
    "        break\n",
    "    else:\n",
    "        ghz_like.cx(0, i+1)\n",
    "\n",
    "ghz_like.draw()\n"
   ]
  },
  {
   "cell_type": "markdown",
   "id": "07787583",
   "metadata": {},
   "source": [
    "depth of the above circuit will be 8"
   ]
  },
  {
   "cell_type": "code",
   "execution_count": 26,
   "id": "87b20de4",
   "metadata": {},
   "outputs": [
    {
     "data": {
      "text/plain": [
       "8"
      ]
     },
     "execution_count": 26,
     "metadata": {},
     "output_type": "execute_result"
    }
   ],
   "source": [
    "ghz_like.depth()"
   ]
  },
  {
   "attachments": {
    "image.png": {
     "image/png": "[encoded data removed]"
    }
   },
   "cell_type": "markdown",
   "id": "c6139d34",
   "metadata": {},
   "source": [
    "Now we will reduce the depth of circuit using binary tree. Binary tree starts with a node and two edges, and the two edges ends in two nodes, then the two nodes will create another two edges and it will go on. Basically each node will create two nodes and the number of nodes will increase with the power of 2. \n",
    "\n",
    "![image.png](attachment:image.png)"
   ]
  },
  {
   "cell_type": "markdown",
   "id": "470590c4",
   "metadata": {},
   "source": [
    "We will use this binary tree on the above circuit. But in thi case our node will be only *CNOT* gate and in each layer of the depth the number of CNOT gate will be equivalent to the number of layer. For example on first layer we should have only 1 CNOT gate, on the second layer we will have only 2 CNOT gate, in third layer we will have 4 CNOT gates. So that means for our GHZ like circuit we will need only 3 layer of CNOT gate (1+2+4=7 CNOT gates). So the total depth of the circuit be 4. \n",
    "\n",
    "Now issue is how we the CNOT gate will take place, for this we will binary search. In bianry search algorithm to find a value in a list we need to at first half the list, then once again make the half of the first half. Such as, to find 2 from 1, 2, 3, 4, 5, 6, 7, 8 we will first make it halves. On first half there will be 1, 2, 3, 4 and rest half will be 5, 6, 7, 8.  Then we will make half of the first half it will be 1,2 and 3,4. Other halves will be 5,6 and 7, 8. Now we have found the 2 on our doing halves for third times. We will insert cx gate in the same way. "
   ]
  },
  {
   "cell_type": "code",
   "execution_count": 27,
   "id": "2ccc4609",
   "metadata": {},
   "outputs": [
    {
     "data": {
      "text/html": [
       "<pre style=\"word-wrap: normal;white-space: pre;background: #fff0;line-height: 1.1;font-family: &quot;Courier New&quot;,Courier,monospace\">     ┌───┐               \n",
       "q_0: ┤ H ├──■────■────■──\n",
       "     └───┘  │    │  ┌─┴─┐\n",
       "q_1: ───────┼────┼──┤ X ├\n",
       "            │  ┌─┴─┐└───┘\n",
       "q_2: ───────┼──┤ X ├──■──\n",
       "            │  └───┘┌─┴─┐\n",
       "q_3: ───────┼───────┤ X ├\n",
       "          ┌─┴─┐     └───┘\n",
       "q_4: ─────┤ X ├──■────■──\n",
       "          └───┘  │  ┌─┴─┐\n",
       "q_5: ────────────┼──┤ X ├\n",
       "               ┌─┴─┐└───┘\n",
       "q_6: ──────────┤ X ├──■──\n",
       "               └───┘┌─┴─┐\n",
       "q_7: ───────────────┤ X ├\n",
       "                    └───┘\n",
       "c: 8/════════════════════\n",
       "                         </pre>"
      ],
      "text/plain": [
       "     ┌───┐               \n",
       "q_0: ┤ H ├──■────■────■──\n",
       "     └───┘  │    │  ┌─┴─┐\n",
       "q_1: ───────┼────┼──┤ X ├\n",
       "            │  ┌─┴─┐└───┘\n",
       "q_2: ───────┼──┤ X ├──■──\n",
       "            │  └───┘┌─┴─┐\n",
       "q_3: ───────┼───────┤ X ├\n",
       "          ┌─┴─┐     └───┘\n",
       "q_4: ─────┤ X ├──■────■──\n",
       "          └───┘  │  ┌─┴─┐\n",
       "q_5: ────────────┼──┤ X ├\n",
       "               ┌─┴─┐└───┘\n",
       "q_6: ──────────┤ X ├──■──\n",
       "               └───┘┌─┴─┐\n",
       "q_7: ───────────────┤ X ├\n",
       "                    └───┘\n",
       "c: 8/════════════════════\n",
       "                         "
      ]
     },
     "execution_count": 27,
     "metadata": {},
     "output_type": "execute_result"
    }
   ],
   "source": [
    "ghz_8 = QuantumCircuit(8,8)\n",
    "\n",
    "ghz_8.h(0)\n",
    "\n",
    "#first layer of cx gate has only 1 cx\n",
    "ghz_8.cx(0,4)\n",
    "\n",
    "#second layer has 2 cx gates and cx gate inserted by following binary search algo\n",
    "ghz_8.cx(0,2)\n",
    "ghz_8.cx(4,6)\n",
    "\n",
    "#third layer has 3 cx gates\n",
    "ghz_8.cx(0,1)\n",
    "ghz_8.cx(2,3)\n",
    "ghz_8.cx(4,5)\n",
    "ghz_8.cx(6,7)\n",
    "\n",
    "ghz_8.draw()\n",
    "\n"
   ]
  },
  {
   "cell_type": "code",
   "execution_count": 28,
   "id": "0dea1008",
   "metadata": {},
   "outputs": [
    {
     "data": {
      "text/plain": [
       "4"
      ]
     },
     "execution_count": 28,
     "metadata": {},
     "output_type": "execute_result"
    }
   ],
   "source": [
    "ghz_8.depth()"
   ]
  },
  {
   "cell_type": "code",
   "execution_count": 31,
   "id": "cb05e21a",
   "metadata": {},
   "outputs": [
    {
     "name": "stdout",
     "output_type": "stream",
     "text": [
      "{'11111111 00000000': 510, '00000000 00000000': 514}\n"
     ]
    }
   ],
   "source": [
    "ghz_8.measure_all()\n",
    "simulator = AerSimulator()\n",
    "result= simulator.run(ghz_8).result()\n",
    "counts = result.get_counts()\n",
    "print(counts)\n"
   ]
  },
  {
   "cell_type": "markdown",
   "id": "eab11b0c",
   "metadata": {},
   "source": [
    "See we have reduced the number of depth drastically and can you do the same thing for any n qubits? If you are interested to proof it for any qubits lets do a collaboration. Email me at: sakibulislamsazzad[at]gmail[dot]com"
   ]
  },
  {
   "cell_type": "code",
   "execution_count": null,
   "id": "fa758c3e",
   "metadata": {},
   "outputs": [],
   "source": []
  }
 ],
 "metadata": {
  "kernelspec": {
   "display_name": "Python 3 (ipykernel)",
   "language": "python",
   "name": "python3"
  },
  "language_info": {
   "codemirror_mode": {
    "name": "ipython",
    "version": 3
   },
   "file_extension": ".py",
   "mimetype": "text/x-python",
   "name": "python",
   "nbconvert_exporter": "python",
   "pygments_lexer": "ipython3",
   "version": "3.8.13"
  }
 },
 "nbformat": 4,
 "nbformat_minor": 5
}
